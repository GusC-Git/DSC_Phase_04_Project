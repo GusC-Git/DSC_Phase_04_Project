{
 "cells": [
  {
   "cell_type": "markdown",
   "metadata": {
    "id": "TnFuXiIq_H-i"
   },
   "source": [
    "# NLP: Classifying Product Reviews by Sentiment"
   ]
  },
  {
   "cell_type": "markdown",
   "metadata": {},
   "source": [
    "* Name: Gustavo Alejandro Chavez\n",
    "* Cohort Lead: Abinheet Kulkarni\n",
    "* Project: Phase 04 Project-- NLP\n"
   ]
  },
  {
   "cell_type": "markdown",
   "metadata": {
    "id": "T6lg1pQR_uLP"
   },
   "source": [
    "# Imports"
   ]
  },
  {
   "cell_type": "code",
   "execution_count": 11,
   "metadata": {
    "colab": {
     "base_uri": "https://localhost:8080/"
    },
    "id": "paz9jUen5QoN",
    "outputId": "8c5e8af3-adf2-4cfa-a972-6ca43af46736"
   },
   "outputs": [],
   "source": [
    "import pandas as pd\n",
    "import numpy as np\n",
    "import os\n",
    "import string\n",
    "import pickle\n",
    "import sklearn\n",
    "\n",
    "from sklearn.metrics import confusion_matrix, accuracy_score, classification_report, roc_curve, auc, plot_roc_curve\n",
    "from sklearn.preprocessing import label_binarize\n",
    "\n",
    "from sklearn.model_selection import GridSearchCV\n",
    "from sklearn.linear_model import LogisticRegressionCV\n",
    "from sklearn.ensemble import RandomForestClassifier\n",
    "from sklearn.svm import SVC\n",
    "from xgboost import XGBClassifier\n",
    "\n",
    "from imblearn.over_sampling import SMOTE\n",
    "\n",
    "import matplotlib.pyplot as plt\n",
    "import seaborn as sns"
   ]
  },
  {
   "cell_type": "code",
   "execution_count": 2,
   "metadata": {
    "colab": {
     "base_uri": "https://localhost:8080/",
     "height": 35
    },
    "id": "nSYJM4jH6Zcb",
    "outputId": "d6517d9e-054c-426b-dd29-4a0d00345b2b"
   },
   "outputs": [
    {
     "data": {
      "text/plain": [
       "'C:\\\\Users\\\\Gustavo\\\\flatiron\\\\class-material\\\\section04\\\\Phase04Project\\\\Notebooks'"
      ]
     },
     "execution_count": 2,
     "metadata": {},
     "output_type": "execute_result"
    }
   ],
   "source": [
    "os.getcwd()"
   ]
  },
  {
   "cell_type": "code",
   "execution_count": 3,
   "metadata": {
    "colab": {
     "base_uri": "https://localhost:8080/"
    },
    "id": "LF2Nqeeq6e8q",
    "outputId": "50ac5e90-2dcc-45ee-ec63-377f8691f844"
   },
   "outputs": [],
   "source": [
    "\n",
    "if os.getcwd() == '/content':\n",
    "    from google.colab import drive\n",
    "    drive.mount('/content/drive')"
   ]
  },
  {
   "cell_type": "code",
   "execution_count": 4,
   "metadata": {
    "id": "itaCXCwT6iJL"
   },
   "outputs": [],
   "source": [
    "#Importing in data\n",
    "if os.getcwd() == '/content':\n",
    "  #X\n",
    "  with open('/content/drive/My Drive/Colab Notebooks/Phase04Project/Data/SVD_train_data.txt', 'rb') as fp:\n",
    "    X_train = pickle.load(fp)\n",
    "  with open('/content/drive/My Drive/Colab Notebooks/Phase04Project/Data/SVD_test_data.txt', 'rb') as fp:\n",
    "    X_test = pickle.load(fp)\n",
    "  \n",
    "  #y\n",
    "  with open('/content/drive/My Drive/Colab Notebooks/Phase04Project/Data/target_train_data.txt', 'rb') as fp:\n",
    "    y_train = pickle.load(fp)\n",
    "  with open('/content/drive/My Drive/Colab Notebooks/Phase04Project/Data/target_test_data.txt', 'rb') as fp:\n",
    "    y_test = pickle.load(fp)\n",
    "    \n",
    "  #X but bigrams\n",
    "  with open('/content/drive/My Drive/Colab Notebooks/Phase04Project/Data/Bigram_train_data.txt', 'rb') as fp:\n",
    "    bigram_X_train = pickle.load(fp)\n",
    "  with open('/content/drive/My Drive/Colab Notebooks/Phase04Project/Data/Bigram_test_data.txt', 'rb') as fp:\n",
    "    bigram_X_test = pickle.load(fp)\n",
    "    \n",
    "else:\n",
    "    #X\n",
    "    with open('../Data/SVD_train_data.txt', 'rb') as fp:\n",
    "        X_train = pickle.load(fp)\n",
    "    with open('../Data/SVD_test_data.txt', 'rb') as fp:\n",
    "        X_test = pickle.load(fp)\n",
    "  \n",
    "  #y\n",
    "    with open('../Data/target_train_data.txt', 'rb') as fp:\n",
    "        y_train = pickle.load(fp)\n",
    "    with open('../Data/target_test_data.txt', 'rb') as fp:\n",
    "        y_test = pickle.load(fp)\n",
    "    \n",
    "  #X but bigrams\n",
    "    with open('../Data/Bigram_train_data.txt', 'rb') as fp:\n",
    "        bigram_X_train = pickle.load(fp)\n",
    "    with open('../Data/Bigram_test_data.txt', 'rb') as fp:\n",
    "        bigram_X_test = pickle.load(fp)"
   ]
  },
  {
   "cell_type": "markdown",
   "metadata": {
    "id": "b6Owl-gfL__8"
   },
   "source": [
    "# Model Selection and Training"
   ]
  },
  {
   "cell_type": "markdown",
   "metadata": {
    "id": "NHPgVF8pDljT"
   },
   "source": [
    "## Standard training and test data"
   ]
  },
  {
   "cell_type": "code",
   "execution_count": 5,
   "metadata": {
    "id": "e3Hgix5s7xhj"
   },
   "outputs": [],
   "source": [
    "classifiers = [XGBClassifier(), RandomForestClassifier(n_estimators=100), LogisticRegressionCV(cv =5), SVC()]"
   ]
  },
  {
   "cell_type": "code",
   "execution_count": 6,
   "metadata": {
    "id": "utBJwFX6CVzP"
   },
   "outputs": [],
   "source": [
    "def get_report(classifier, X_train, y_train, X_test, y_test):\n",
    "  classifier.fit(X_train, y_train)\n",
    "  print(f\"{classifier}\")\n",
    "  print(\"--Training Data--\")\n",
    "  display(confusion_matrix(y_train, classifier.predict(X_train)))\n",
    "  print(\"\\n\"+ classification_report(y_train, classifier.predict(X_train)))\n",
    "  print(\"--Test--\")\n",
    "  display(confusion_matrix(y_test, classifier.predict(X_test)))\n",
    "  print(\"\\n\"+ classification_report(y_test, classifier.predict(X_test)))\n",
    "  return"
   ]
  },
  {
   "cell_type": "code",
   "execution_count": 7,
   "metadata": {
    "colab": {
     "base_uri": "https://localhost:8080/",
     "height": 1000
    },
    "id": "k2ymZsSmLy-H",
    "outputId": "1ca83354-19a5-4b8b-996a-ae92487ea1b3",
    "scrolled": false
   },
   "outputs": [
    {
     "name": "stdout",
     "output_type": "stream",
     "text": [
      "XGBClassifier(objective='multi:softprob')\n",
      "--Training Data--\n"
     ]
    },
    {
     "data": {
      "text/plain": [
       "array([[ 195,   34,  182],\n",
       "       [   1, 3975,   56],\n",
       "       [   0,  221, 2038]], dtype=int64)"
      ]
     },
     "metadata": {},
     "output_type": "display_data"
    },
    {
     "name": "stdout",
     "output_type": "stream",
     "text": [
      "\n",
      "              precision    recall  f1-score   support\n",
      "\n",
      "           0       0.99      0.47      0.64       411\n",
      "           1       0.94      0.99      0.96      4032\n",
      "           2       0.90      0.90      0.90      2259\n",
      "\n",
      "    accuracy                           0.93      6702\n",
      "   macro avg       0.94      0.79      0.83      6702\n",
      "weighted avg       0.93      0.93      0.92      6702\n",
      "\n",
      "--Test--\n"
     ]
    },
    {
     "data": {
      "text/plain": [
       "array([[   7,   14,  138],\n",
       "       [   0, 1330,   26],\n",
       "       [   2,   80,  637]], dtype=int64)"
      ]
     },
     "metadata": {},
     "output_type": "display_data"
    },
    {
     "name": "stdout",
     "output_type": "stream",
     "text": [
      "\n",
      "              precision    recall  f1-score   support\n",
      "\n",
      "           0       0.78      0.04      0.08       159\n",
      "           1       0.93      0.98      0.96      1356\n",
      "           2       0.80      0.89      0.84       719\n",
      "\n",
      "    accuracy                           0.88      2234\n",
      "   macro avg       0.84      0.64      0.63      2234\n",
      "weighted avg       0.88      0.88      0.86      2234\n",
      "\n",
      "RandomForestClassifier()\n",
      "--Training Data--\n"
     ]
    },
    {
     "data": {
      "text/plain": [
       "array([[ 408,    1,    2],\n",
       "       [   1, 4030,    1],\n",
       "       [   0,   10, 2249]], dtype=int64)"
      ]
     },
     "metadata": {},
     "output_type": "display_data"
    },
    {
     "name": "stdout",
     "output_type": "stream",
     "text": [
      "\n",
      "              precision    recall  f1-score   support\n",
      "\n",
      "           0       1.00      0.99      1.00       411\n",
      "           1       1.00      1.00      1.00      4032\n",
      "           2       1.00      1.00      1.00      2259\n",
      "\n",
      "    accuracy                           1.00      6702\n",
      "   macro avg       1.00      1.00      1.00      6702\n",
      "weighted avg       1.00      1.00      1.00      6702\n",
      "\n",
      "--Test--\n"
     ]
    },
    {
     "data": {
      "text/plain": [
       "array([[  22,   74,   63],\n",
       "       [   8, 1277,   71],\n",
       "       [   1,  302,  416]], dtype=int64)"
      ]
     },
     "metadata": {},
     "output_type": "display_data"
    },
    {
     "name": "stdout",
     "output_type": "stream",
     "text": [
      "\n",
      "              precision    recall  f1-score   support\n",
      "\n",
      "           0       0.71      0.14      0.23       159\n",
      "           1       0.77      0.94      0.85      1356\n",
      "           2       0.76      0.58      0.66       719\n",
      "\n",
      "    accuracy                           0.77      2234\n",
      "   macro avg       0.75      0.55      0.58      2234\n",
      "weighted avg       0.76      0.77      0.74      2234\n",
      "\n"
     ]
    },
    {
     "name": "stderr",
     "output_type": "stream",
     "text": [
      "C:\\Users\\Gustavo\\Anaconda3\\envs\\learn-env\\lib\\site-packages\\sklearn\\linear_model\\_logistic.py:764: ConvergenceWarning: lbfgs failed to converge (status=1):\n",
      "STOP: TOTAL NO. of ITERATIONS REACHED LIMIT.\n",
      "\n",
      "Increase the number of iterations (max_iter) or scale the data as shown in:\n",
      "    https://scikit-learn.org/stable/modules/preprocessing.html\n",
      "Please also refer to the documentation for alternative solver options:\n",
      "    https://scikit-learn.org/stable/modules/linear_model.html#logistic-regression\n",
      "  extra_warning_msg=_LOGISTIC_SOLVER_CONVERGENCE_MSG)\n",
      "C:\\Users\\Gustavo\\Anaconda3\\envs\\learn-env\\lib\\site-packages\\sklearn\\linear_model\\_logistic.py:764: ConvergenceWarning: lbfgs failed to converge (status=1):\n",
      "STOP: TOTAL NO. of ITERATIONS REACHED LIMIT.\n",
      "\n",
      "Increase the number of iterations (max_iter) or scale the data as shown in:\n",
      "    https://scikit-learn.org/stable/modules/preprocessing.html\n",
      "Please also refer to the documentation for alternative solver options:\n",
      "    https://scikit-learn.org/stable/modules/linear_model.html#logistic-regression\n",
      "  extra_warning_msg=_LOGISTIC_SOLVER_CONVERGENCE_MSG)\n",
      "C:\\Users\\Gustavo\\Anaconda3\\envs\\learn-env\\lib\\site-packages\\sklearn\\linear_model\\_logistic.py:764: ConvergenceWarning: lbfgs failed to converge (status=1):\n",
      "STOP: TOTAL NO. of ITERATIONS REACHED LIMIT.\n",
      "\n",
      "Increase the number of iterations (max_iter) or scale the data as shown in:\n",
      "    https://scikit-learn.org/stable/modules/preprocessing.html\n",
      "Please also refer to the documentation for alternative solver options:\n",
      "    https://scikit-learn.org/stable/modules/linear_model.html#logistic-regression\n",
      "  extra_warning_msg=_LOGISTIC_SOLVER_CONVERGENCE_MSG)\n",
      "C:\\Users\\Gustavo\\Anaconda3\\envs\\learn-env\\lib\\site-packages\\sklearn\\linear_model\\_logistic.py:764: ConvergenceWarning: lbfgs failed to converge (status=1):\n",
      "STOP: TOTAL NO. of ITERATIONS REACHED LIMIT.\n",
      "\n",
      "Increase the number of iterations (max_iter) or scale the data as shown in:\n",
      "    https://scikit-learn.org/stable/modules/preprocessing.html\n",
      "Please also refer to the documentation for alternative solver options:\n",
      "    https://scikit-learn.org/stable/modules/linear_model.html#logistic-regression\n",
      "  extra_warning_msg=_LOGISTIC_SOLVER_CONVERGENCE_MSG)\n",
      "C:\\Users\\Gustavo\\Anaconda3\\envs\\learn-env\\lib\\site-packages\\sklearn\\linear_model\\_logistic.py:764: ConvergenceWarning: lbfgs failed to converge (status=1):\n",
      "STOP: TOTAL NO. of ITERATIONS REACHED LIMIT.\n",
      "\n",
      "Increase the number of iterations (max_iter) or scale the data as shown in:\n",
      "    https://scikit-learn.org/stable/modules/preprocessing.html\n",
      "Please also refer to the documentation for alternative solver options:\n",
      "    https://scikit-learn.org/stable/modules/linear_model.html#logistic-regression\n",
      "  extra_warning_msg=_LOGISTIC_SOLVER_CONVERGENCE_MSG)\n"
     ]
    },
    {
     "name": "stdout",
     "output_type": "stream",
     "text": [
      "LogisticRegressionCV(cv=5)\n",
      "--Training Data--\n"
     ]
    },
    {
     "data": {
      "text/plain": [
       "array([[ 305,   38,   68],\n",
       "       [   5, 3971,   56],\n",
       "       [   1,  214, 2044]], dtype=int64)"
      ]
     },
     "metadata": {},
     "output_type": "display_data"
    },
    {
     "name": "stdout",
     "output_type": "stream",
     "text": [
      "\n",
      "              precision    recall  f1-score   support\n",
      "\n",
      "           0       0.98      0.74      0.84       411\n",
      "           1       0.94      0.98      0.96      4032\n",
      "           2       0.94      0.90      0.92      2259\n",
      "\n",
      "    accuracy                           0.94      6702\n",
      "   macro avg       0.95      0.88      0.91      6702\n",
      "weighted avg       0.94      0.94      0.94      6702\n",
      "\n",
      "--Test--\n"
     ]
    },
    {
     "data": {
      "text/plain": [
       "array([[  49,   13,   97],\n",
       "       [   4, 1329,   23],\n",
       "       [  10,   80,  629]], dtype=int64)"
      ]
     },
     "metadata": {},
     "output_type": "display_data"
    },
    {
     "name": "stdout",
     "output_type": "stream",
     "text": [
      "\n",
      "              precision    recall  f1-score   support\n",
      "\n",
      "           0       0.78      0.31      0.44       159\n",
      "           1       0.93      0.98      0.96      1356\n",
      "           2       0.84      0.87      0.86       719\n",
      "\n",
      "    accuracy                           0.90      2234\n",
      "   macro avg       0.85      0.72      0.75      2234\n",
      "weighted avg       0.89      0.90      0.89      2234\n",
      "\n",
      "SVC()\n",
      "--Training Data--\n"
     ]
    },
    {
     "data": {
      "text/plain": [
       "array([[ 163,   38,  210],\n",
       "       [   4, 3969,   59],\n",
       "       [   1,  222, 2036]], dtype=int64)"
      ]
     },
     "metadata": {},
     "output_type": "display_data"
    },
    {
     "name": "stdout",
     "output_type": "stream",
     "text": [
      "\n",
      "              precision    recall  f1-score   support\n",
      "\n",
      "           0       0.97      0.40      0.56       411\n",
      "           1       0.94      0.98      0.96      4032\n",
      "           2       0.88      0.90      0.89      2259\n",
      "\n",
      "    accuracy                           0.92      6702\n",
      "   macro avg       0.93      0.76      0.81      6702\n",
      "weighted avg       0.92      0.92      0.91      6702\n",
      "\n",
      "--Test--\n"
     ]
    },
    {
     "data": {
      "text/plain": [
       "array([[  15,   13,  131],\n",
       "       [   1, 1330,   25],\n",
       "       [   0,   80,  639]], dtype=int64)"
      ]
     },
     "metadata": {},
     "output_type": "display_data"
    },
    {
     "name": "stdout",
     "output_type": "stream",
     "text": [
      "\n",
      "              precision    recall  f1-score   support\n",
      "\n",
      "           0       0.94      0.09      0.17       159\n",
      "           1       0.93      0.98      0.96      1356\n",
      "           2       0.80      0.89      0.84       719\n",
      "\n",
      "    accuracy                           0.89      2234\n",
      "   macro avg       0.89      0.65      0.66      2234\n",
      "weighted avg       0.89      0.89      0.86      2234\n",
      "\n"
     ]
    }
   ],
   "source": [
    "#Printing a base model for each one to see where each model is at with this data\n",
    "for classifier in classifiers:\n",
    "  get_report(classifier=classifier, X_train=X_train, y_train=y_train, X_test=X_test, y_test=y_test)"
   ]
  },
  {
   "cell_type": "code",
   "execution_count": 8,
   "metadata": {},
   "outputs": [],
   "source": [
    "#Creating function that will build a roc curve for each of our base models\n",
    "def get_roc_curve(clf, X, y_bin, axis=None, title=None):\n",
    "    \n",
    "    #Initiates a y-score\n",
    "    y_score = 0\n",
    "    \n",
    "    #This block determines how to proceed depending on whether we have a logistic/ svm model vs the others\n",
    "    if ((type(clf) == sklearn.linear_model._logistic.LogisticRegressionCV) | (type(clf) == sklearn.svm._classes.SVC)):\n",
    "        y_score = clf.decision_function(X)\n",
    "    else:\n",
    "        y_score = clf.predict_proba(X)\n",
    "        \n",
    "    #Calculates the values for our roc curve\n",
    "    fpr = {}\n",
    "    tpr = {}\n",
    "    roc_auc = dict()\n",
    "    for i in range(3):\n",
    "        fpr[i], tpr[i], _ = roc_curve(y_bin[:, i], y_score[:, i])\n",
    "        roc_auc[i] = auc(fpr[i], tpr[i])\n",
    "    \n",
    "    #Establishes our axes/ creates our plots\n",
    "    if axis:\n",
    "        for i in range(3):\n",
    "            axis.plot(fpr[i], tpr[i], label=str(i))\n",
    "        axis.legend()\n",
    "        axis.set_xlabel('FPR')\n",
    "        axis.set_ylabel('TPR')\n",
    "        axis.set_title(title)\n",
    "        \n",
    "    else:\n",
    "        plt.plot(figsize=(10,10))\n",
    "        for i in range(3): \n",
    "            plt.plot(fpr[i], tpr[i], label=str(i))\n",
    "        plt.legend()\n",
    "        plt.xlabel('FPR')\n",
    "        plt.ylabel('TPR')\n",
    "        plt.title(title)\n",
    "    "
   ]
  },
  {
   "cell_type": "code",
   "execution_count": 12,
   "metadata": {},
   "outputs": [
    {
     "data": {
      "image/png": "[encoded data removed]",
      "text/plain": [
       "<Figure size 1152x576 with 2 Axes>"
      ]
     },
     "metadata": {
      "needs_background": "light"
     },
     "output_type": "display_data"
    },
    {
     "data": {
      "image/png": "[encoded data removed]",
      "text/plain": [
       "<Figure size 1152x576 with 2 Axes>"
      ]
     },
     "metadata": {
      "needs_background": "light"
     },
     "output_type": "display_data"
    },
    {
     "data": {
      "image/png": "[encoded data removed]",
      "text/plain": [
       "<Figure size 1152x576 with 2 Axes>"
      ]
     },
     "metadata": {
      "needs_background": "light"
     },
     "output_type": "display_data"
    },
    {
     "data": {
      "image/png": "[encoded data removed]",
      "text/plain": [
       "<Figure size 1152x576 with 2 Axes>"
      ]
     },
     "metadata": {
      "needs_background": "light"
     },
     "output_type": "display_data"
    }
   ],
   "source": [
    "#label binarizing for roc curve\n",
    "y_train_bin = label_binarize(y_train, classes=[0,1,2])\n",
    "y_test_bin = label_binarize(y_test, classes=[0,1,2])\n",
    "\n",
    "#Creating roc curve graphs\n",
    "for classifier in classifiers:\n",
    "    fig, axes = plt.subplots(1,2, figsize=(16,8))\n",
    "    get_roc_curve(classifier, X_train, y_train_bin, axis=axes[0], title=f'{classifier} ROC Curve (Train)')\n",
    "    get_roc_curve(classifier, X_test, y_test_bin, axis=axes[1], title=f'{classifier} ROC Curve (Test)')"
   ]
  },
  {
   "cell_type": "markdown",
   "metadata": {
    "id": "dx1tYpm6Ahad"
   },
   "source": [
    "In the dataset there is a huge issue of class imbalance. There are significantly more neutral reviews than there are reviews with an attached emotion, and of the reviews with emotion, there are significantly more positive reviews than there are negative. Of the models I have chosen, most have performed exceptionally well, however a few have overfit onto the training data, such as the RandomForest model. This is made apparent as well when you look at the ROC curves of our data. Of all the classes, the classifiers have an easier time detecting that there is no emotion present, and on the test data, and struggle the most to identify tweets of negative sentiment. Perhaps later on in SMOTE-ing the data, We can better classify the negative emotion tweets."
   ]
  },
  {
   "cell_type": "markdown",
   "metadata": {
    "id": "onDpZEzxDs66"
   },
   "source": [
    "## Bigram train and test data"
   ]
  },
  {
   "cell_type": "code",
   "execution_count": null,
   "metadata": {
    "colab": {
     "base_uri": "https://localhost:8080/",
     "height": 1000
    },
    "id": "RmCfINBPPmeC",
    "outputId": "29390f7d-104c-445d-a487-184b90100542",
    "scrolled": false
   },
   "outputs": [
    {
     "name": "stdout",
     "output_type": "stream",
     "text": [
      "XGBClassifier(base_score=0.5, booster='gbtree', colsample_bylevel=1,\n",
      "              colsample_bynode=1, colsample_bytree=1, gamma=0,\n",
      "              learning_rate=0.1, max_delta_step=0, max_depth=3,\n",
      "              min_child_weight=1, missing=None, n_estimators=100, n_jobs=1,\n",
      "              nthread=None, objective='multi:softprob', random_state=0,\n",
      "              reg_alpha=0, reg_lambda=1, scale_pos_weight=1, seed=None,\n",
      "              silent=None, subsample=1, verbosity=1)\n",
      "--Training Data--\n"
     ]
    },
    {
     "data": {
      "text/plain": [
       "array([[ 100,   37,  274],\n",
       "       [   0, 3974,   58],\n",
       "       [   0,  217, 2042]])"
      ]
     },
     "metadata": {
      "tags": []
     },
     "output_type": "display_data"
    },
    {
     "name": "stdout",
     "output_type": "stream",
     "text": [
      "\n",
      "              precision    recall  f1-score   support\n",
      "\n",
      "           0       1.00      0.24      0.39       411\n",
      "           1       0.94      0.99      0.96      4032\n",
      "           2       0.86      0.90      0.88      2259\n",
      "\n",
      "    accuracy                           0.91      6702\n",
      "   macro avg       0.93      0.71      0.75      6702\n",
      "weighted avg       0.92      0.91      0.90      6702\n",
      "\n",
      "--Test--\n"
     ]
    },
    {
     "data": {
      "text/plain": [
       "array([[   3,   13,  143],\n",
       "       [   0, 1330,   26],\n",
       "       [   0,   80,  639]])"
      ]
     },
     "metadata": {
      "tags": []
     },
     "output_type": "display_data"
    },
    {
     "name": "stdout",
     "output_type": "stream",
     "text": [
      "\n",
      "              precision    recall  f1-score   support\n",
      "\n",
      "           0       1.00      0.02      0.04       159\n",
      "           1       0.93      0.98      0.96      1356\n",
      "           2       0.79      0.89      0.84       719\n",
      "\n",
      "    accuracy                           0.88      2234\n",
      "   macro avg       0.91      0.63      0.61      2234\n",
      "weighted avg       0.89      0.88      0.85      2234\n",
      "\n",
      "RandomForestClassifier(bootstrap=True, ccp_alpha=0.0, class_weight=None,\n",
      "                       criterion='gini', max_depth=None, max_features='auto',\n",
      "                       max_leaf_nodes=None, max_samples=None,\n",
      "                       min_impurity_decrease=0.0, min_impurity_split=None,\n",
      "                       min_samples_leaf=1, min_samples_split=2,\n",
      "                       min_weight_fraction_leaf=0.0, n_estimators=100,\n",
      "                       n_jobs=None, oob_score=False, random_state=None,\n",
      "                       verbose=0, warm_start=False)\n",
      "--Training Data--\n"
     ]
    },
    {
     "data": {
      "text/plain": [
       "array([[ 408,    2,    1],\n",
       "       [   0, 4031,    1],\n",
       "       [   1,    9, 2249]])"
      ]
     },
     "metadata": {
      "tags": []
     },
     "output_type": "display_data"
    },
    {
     "name": "stdout",
     "output_type": "stream",
     "text": [
      "\n",
      "              precision    recall  f1-score   support\n",
      "\n",
      "           0       1.00      0.99      1.00       411\n",
      "           1       1.00      1.00      1.00      4032\n",
      "           2       1.00      1.00      1.00      2259\n",
      "\n",
      "    accuracy                           1.00      6702\n",
      "   macro avg       1.00      1.00      1.00      6702\n",
      "weighted avg       1.00      1.00      1.00      6702\n",
      "\n",
      "--Test--\n"
     ]
    },
    {
     "data": {
      "text/plain": [
       "array([[  19,  112,   28],\n",
       "       [   6, 1291,   59],\n",
       "       [  11,  443,  265]])"
      ]
     },
     "metadata": {
      "tags": []
     },
     "output_type": "display_data"
    },
    {
     "name": "stdout",
     "output_type": "stream",
     "text": [
      "\n",
      "              precision    recall  f1-score   support\n",
      "\n",
      "           0       0.53      0.12      0.19       159\n",
      "           1       0.70      0.95      0.81      1356\n",
      "           2       0.75      0.37      0.49       719\n",
      "\n",
      "    accuracy                           0.71      2234\n",
      "   macro avg       0.66      0.48      0.50      2234\n",
      "weighted avg       0.70      0.71      0.66      2234\n",
      "\n"
     ]
    },
    {
     "name": "stderr",
     "output_type": "stream",
     "text": [
      "/usr/local/lib/python3.7/dist-packages/sklearn/linear_model/_logistic.py:940: ConvergenceWarning: lbfgs failed to converge (status=1):\n",
      "STOP: TOTAL NO. of ITERATIONS REACHED LIMIT.\n",
      "\n",
      "Increase the number of iterations (max_iter) or scale the data as shown in:\n",
      "    https://scikit-learn.org/stable/modules/preprocessing.html\n",
      "Please also refer to the documentation for alternative solver options:\n",
      "    https://scikit-learn.org/stable/modules/linear_model.html#logistic-regression\n",
      "  extra_warning_msg=_LOGISTIC_SOLVER_CONVERGENCE_MSG)\n",
      "/usr/local/lib/python3.7/dist-packages/sklearn/linear_model/_logistic.py:940: ConvergenceWarning: lbfgs failed to converge (status=1):\n",
      "STOP: TOTAL NO. of ITERATIONS REACHED LIMIT.\n",
      "\n",
      "Increase the number of iterations (max_iter) or scale the data as shown in:\n",
      "    https://scikit-learn.org/stable/modules/preprocessing.html\n",
      "Please also refer to the documentation for alternative solver options:\n",
      "    https://scikit-learn.org/stable/modules/linear_model.html#logistic-regression\n",
      "  extra_warning_msg=_LOGISTIC_SOLVER_CONVERGENCE_MSG)\n",
      "/usr/local/lib/python3.7/dist-packages/sklearn/linear_model/_logistic.py:940: ConvergenceWarning: lbfgs failed to converge (status=1):\n",
      "STOP: TOTAL NO. of ITERATIONS REACHED LIMIT.\n",
      "\n",
      "Increase the number of iterations (max_iter) or scale the data as shown in:\n",
      "    https://scikit-learn.org/stable/modules/preprocessing.html\n",
      "Please also refer to the documentation for alternative solver options:\n",
      "    https://scikit-learn.org/stable/modules/linear_model.html#logistic-regression\n",
      "  extra_warning_msg=_LOGISTIC_SOLVER_CONVERGENCE_MSG)\n",
      "/usr/local/lib/python3.7/dist-packages/sklearn/linear_model/_logistic.py:940: ConvergenceWarning: lbfgs failed to converge (status=1):\n",
      "STOP: TOTAL NO. of ITERATIONS REACHED LIMIT.\n",
      "\n",
      "Increase the number of iterations (max_iter) or scale the data as shown in:\n",
      "    https://scikit-learn.org/stable/modules/preprocessing.html\n",
      "Please also refer to the documentation for alternative solver options:\n",
      "    https://scikit-learn.org/stable/modules/linear_model.html#logistic-regression\n",
      "  extra_warning_msg=_LOGISTIC_SOLVER_CONVERGENCE_MSG)\n",
      "/usr/local/lib/python3.7/dist-packages/sklearn/linear_model/_logistic.py:940: ConvergenceWarning: lbfgs failed to converge (status=1):\n",
      "STOP: TOTAL NO. of ITERATIONS REACHED LIMIT.\n",
      "\n",
      "Increase the number of iterations (max_iter) or scale the data as shown in:\n",
      "    https://scikit-learn.org/stable/modules/preprocessing.html\n",
      "Please also refer to the documentation for alternative solver options:\n",
      "    https://scikit-learn.org/stable/modules/linear_model.html#logistic-regression\n",
      "  extra_warning_msg=_LOGISTIC_SOLVER_CONVERGENCE_MSG)\n"
     ]
    },
    {
     "name": "stdout",
     "output_type": "stream",
     "text": [
      "LogisticRegressionCV(Cs=10, class_weight=None, cv=5, dual=False,\n",
      "                     fit_intercept=True, intercept_scaling=1.0, l1_ratios=None,\n",
      "                     max_iter=100, multi_class='auto', n_jobs=None,\n",
      "                     penalty='l2', random_state=None, refit=True, scoring=None,\n",
      "                     solver='lbfgs', tol=0.0001, verbose=0)\n",
      "--Training Data--\n"
     ]
    },
    {
     "data": {
      "text/plain": [
       "array([[ 354,   38,   19],\n",
       "       [   8, 3969,   55],\n",
       "       [   1,  221, 2037]])"
      ]
     },
     "metadata": {
      "tags": []
     },
     "output_type": "display_data"
    },
    {
     "name": "stdout",
     "output_type": "stream",
     "text": [
      "\n",
      "              precision    recall  f1-score   support\n",
      "\n",
      "           0       0.98      0.86      0.91       411\n",
      "           1       0.94      0.98      0.96      4032\n",
      "           2       0.96      0.90      0.93      2259\n",
      "\n",
      "    accuracy                           0.95      6702\n",
      "   macro avg       0.96      0.92      0.94      6702\n",
      "weighted avg       0.95      0.95      0.95      6702\n",
      "\n",
      "--Test--\n"
     ]
    },
    {
     "data": {
      "text/plain": [
       "array([[  33,   13,  113],\n",
       "       [   1, 1330,   25],\n",
       "       [   1,   80,  638]])"
      ]
     },
     "metadata": {
      "tags": []
     },
     "output_type": "display_data"
    },
    {
     "name": "stdout",
     "output_type": "stream",
     "text": [
      "\n",
      "              precision    recall  f1-score   support\n",
      "\n",
      "           0       0.94      0.21      0.34       159\n",
      "           1       0.93      0.98      0.96      1356\n",
      "           2       0.82      0.89      0.85       719\n",
      "\n",
      "    accuracy                           0.90      2234\n",
      "   macro avg       0.90      0.69      0.72      2234\n",
      "weighted avg       0.90      0.90      0.88      2234\n",
      "\n",
      "SVC(C=1.0, break_ties=False, cache_size=200, class_weight=None, coef0=0.0,\n",
      "    decision_function_shape='ovr', degree=3, gamma='scale', kernel='rbf',\n",
      "    max_iter=-1, probability=False, random_state=None, shrinking=True,\n",
      "    tol=0.001, verbose=False)\n",
      "--Training Data--\n"
     ]
    },
    {
     "data": {
      "text/plain": [
       "array([[ 103,   38,  270],\n",
       "       [   4, 3969,   59],\n",
       "       [   1,  222, 2036]])"
      ]
     },
     "metadata": {
      "tags": []
     },
     "output_type": "display_data"
    },
    {
     "name": "stdout",
     "output_type": "stream",
     "text": [
      "\n",
      "              precision    recall  f1-score   support\n",
      "\n",
      "           0       0.95      0.25      0.40       411\n",
      "           1       0.94      0.98      0.96      4032\n",
      "           2       0.86      0.90      0.88      2259\n",
      "\n",
      "    accuracy                           0.91      6702\n",
      "   macro avg       0.92      0.71      0.75      6702\n",
      "weighted avg       0.91      0.91      0.90      6702\n",
      "\n",
      "--Test--\n"
     ]
    },
    {
     "data": {
      "text/plain": [
       "array([[  11,   13,  135],\n",
       "       [   1, 1330,   25],\n",
       "       [   0,   80,  639]])"
      ]
     },
     "metadata": {
      "tags": []
     },
     "output_type": "display_data"
    },
    {
     "name": "stdout",
     "output_type": "stream",
     "text": [
      "\n",
      "              precision    recall  f1-score   support\n",
      "\n",
      "           0       0.92      0.07      0.13       159\n",
      "           1       0.93      0.98      0.96      1356\n",
      "           2       0.80      0.89      0.84       719\n",
      "\n",
      "    accuracy                           0.89      2234\n",
      "   macro avg       0.88      0.65      0.64      2234\n",
      "weighted avg       0.89      0.89      0.86      2234\n",
      "\n"
     ]
    }
   ],
   "source": [
    "for classifier in classifiers:\n",
    "  get_report(classifier=classifier, X_train=bigram_X_train, y_train=y_train, X_test=bigram_X_test, y_test=y_test)"
   ]
  },
  {
   "cell_type": "markdown",
   "metadata": {
    "id": "8NSHBiT7bSTo"
   },
   "source": [
    "I will be using the f-1 score for the minority class (negative reviews) to drive my decision making. It is important to capture most of the negative reviews since those could offer insight to possible problems, and it is equally important to know the negative things people are saying as much as it is pleasant to hear the positive things. The dataset composed of bigrams had worse f-1 scores across the board on the test data than the data without. Moving forward, we will only use the unigram data."
   ]
  },
  {
   "cell_type": "markdown",
   "metadata": {
    "id": "VLdyriAifb3v"
   },
   "source": [
    "## Dealing with Class Imbalance using SMOTE"
   ]
  },
  {
   "cell_type": "markdown",
   "metadata": {
    "id": "zoRgljyVghh5"
   },
   "source": [
    "There are many ways of dealing with class imbalance. because the size of negative reviews is very small and I do not wish to lose data, I will not be undersampling. My data as it stands is overfit onto the training data thus I will not be using oversampling either since models tend to overfit when it is used. While SMOTE works well with low dimensional data but is less effective with high dimensional data, such as text data. I will still be implementing it in hopes of improvement."
   ]
  },
  {
   "cell_type": "code",
   "execution_count": 13,
   "metadata": {
    "colab": {
     "base_uri": "https://localhost:8080/"
    },
    "id": "e1C9L_BoHcRm",
    "outputId": "ee2d6f55-a57a-4cea-86dc-666e788dae63"
   },
   "outputs": [
    {
     "name": "stderr",
     "output_type": "stream",
     "text": [
      "C:\\Users\\Gustavo\\Anaconda3\\envs\\learn-env\\lib\\site-packages\\sklearn\\utils\\deprecation.py:86: FutureWarning: Function safe_indexing is deprecated; safe_indexing is deprecated in version 0.22 and will be removed in version 0.24.\n",
      "  warnings.warn(msg, category=FutureWarning)\n",
      "C:\\Users\\Gustavo\\Anaconda3\\envs\\learn-env\\lib\\site-packages\\sklearn\\utils\\deprecation.py:86: FutureWarning: Function safe_indexing is deprecated; safe_indexing is deprecated in version 0.22 and will be removed in version 0.24.\n",
      "  warnings.warn(msg, category=FutureWarning)\n"
     ]
    }
   ],
   "source": [
    "#Will not smote test data, thus I am okay naming these just smote_X and smote_y\n",
    "smote =SMOTE(random_state=42)\n",
    "smote_X, smote_y = smote.fit_resample(X_train, y_train)"
   ]
  },
  {
   "cell_type": "code",
   "execution_count": 14,
   "metadata": {
    "colab": {
     "base_uri": "https://localhost:8080/"
    },
    "id": "Fzg74UfUkI2k",
    "outputId": "95967791-c59a-4bb0-b655-2d751aa193de"
   },
   "outputs": [
    {
     "name": "stdout",
     "output_type": "stream",
     "text": [
      "(12096, 3632)\n",
      "(12096,)\n"
     ]
    }
   ],
   "source": [
    "print(smote_X.shape)\n",
    "print(smote_y.shape)"
   ]
  },
  {
   "cell_type": "code",
   "execution_count": 15,
   "metadata": {
    "colab": {
     "base_uri": "https://localhost:8080/",
     "height": 1000
    },
    "id": "HGZA5NYxkdWU",
    "outputId": "fde0a2fd-23d0-401a-d0b6-6a2b8cbacf70",
    "scrolled": false
   },
   "outputs": [
    {
     "name": "stdout",
     "output_type": "stream",
     "text": [
      "XGBClassifier(objective='multi:softprob')\n",
      "--Training Data--\n"
     ]
    },
    {
     "data": {
      "text/plain": [
       "array([[3898,   99,   35],\n",
       "       [  20, 3968,   44],\n",
       "       [ 174,  378, 3480]], dtype=int64)"
      ]
     },
     "metadata": {},
     "output_type": "display_data"
    },
    {
     "name": "stdout",
     "output_type": "stream",
     "text": [
      "\n",
      "              precision    recall  f1-score   support\n",
      "\n",
      "           0       0.95      0.97      0.96      4032\n",
      "           1       0.89      0.98      0.94      4032\n",
      "           2       0.98      0.86      0.92      4032\n",
      "\n",
      "    accuracy                           0.94     12096\n",
      "   macro avg       0.94      0.94      0.94     12096\n",
      "weighted avg       0.94      0.94      0.94     12096\n",
      "\n",
      "--Test--\n"
     ]
    },
    {
     "data": {
      "text/plain": [
       "array([[  87,   13,   59],\n",
       "       [   7, 1330,   19],\n",
       "       [  87,   80,  552]], dtype=int64)"
      ]
     },
     "metadata": {},
     "output_type": "display_data"
    },
    {
     "name": "stdout",
     "output_type": "stream",
     "text": [
      "\n",
      "              precision    recall  f1-score   support\n",
      "\n",
      "           0       0.48      0.55      0.51       159\n",
      "           1       0.93      0.98      0.96      1356\n",
      "           2       0.88      0.77      0.82       719\n",
      "\n",
      "    accuracy                           0.88      2234\n",
      "   macro avg       0.76      0.77      0.76      2234\n",
      "weighted avg       0.88      0.88      0.88      2234\n",
      "\n",
      "RandomForestClassifier()\n",
      "--Training Data--\n"
     ]
    },
    {
     "data": {
      "text/plain": [
       "array([[4030,    0,    2],\n",
       "       [   2, 4024,    6],\n",
       "       [   0,    6, 4026]], dtype=int64)"
      ]
     },
     "metadata": {},
     "output_type": "display_data"
    },
    {
     "name": "stdout",
     "output_type": "stream",
     "text": [
      "\n",
      "              precision    recall  f1-score   support\n",
      "\n",
      "           0       1.00      1.00      1.00      4032\n",
      "           1       1.00      1.00      1.00      4032\n",
      "           2       1.00      1.00      1.00      4032\n",
      "\n",
      "    accuracy                           1.00     12096\n",
      "   macro avg       1.00      1.00      1.00     12096\n",
      "weighted avg       1.00      1.00      1.00     12096\n",
      "\n",
      "--Test--\n"
     ]
    },
    {
     "data": {
      "text/plain": [
       "array([[  34,   43,   82],\n",
       "       [  13, 1250,   93],\n",
       "       [  11,  186,  522]], dtype=int64)"
      ]
     },
     "metadata": {},
     "output_type": "display_data"
    },
    {
     "name": "stdout",
     "output_type": "stream",
     "text": [
      "\n",
      "              precision    recall  f1-score   support\n",
      "\n",
      "           0       0.59      0.21      0.31       159\n",
      "           1       0.85      0.92      0.88      1356\n",
      "           2       0.75      0.73      0.74       719\n",
      "\n",
      "    accuracy                           0.81      2234\n",
      "   macro avg       0.73      0.62      0.64      2234\n",
      "weighted avg       0.80      0.81      0.79      2234\n",
      "\n"
     ]
    },
    {
     "name": "stderr",
     "output_type": "stream",
     "text": [
      "C:\\Users\\Gustavo\\Anaconda3\\envs\\learn-env\\lib\\site-packages\\sklearn\\linear_model\\_logistic.py:764: ConvergenceWarning: lbfgs failed to converge (status=1):\n",
      "STOP: TOTAL NO. of ITERATIONS REACHED LIMIT.\n",
      "\n",
      "Increase the number of iterations (max_iter) or scale the data as shown in:\n",
      "    https://scikit-learn.org/stable/modules/preprocessing.html\n",
      "Please also refer to the documentation for alternative solver options:\n",
      "    https://scikit-learn.org/stable/modules/linear_model.html#logistic-regression\n",
      "  extra_warning_msg=_LOGISTIC_SOLVER_CONVERGENCE_MSG)\n",
      "C:\\Users\\Gustavo\\Anaconda3\\envs\\learn-env\\lib\\site-packages\\sklearn\\linear_model\\_logistic.py:764: ConvergenceWarning: lbfgs failed to converge (status=1):\n",
      "STOP: TOTAL NO. of ITERATIONS REACHED LIMIT.\n",
      "\n",
      "Increase the number of iterations (max_iter) or scale the data as shown in:\n",
      "    https://scikit-learn.org/stable/modules/preprocessing.html\n",
      "Please also refer to the documentation for alternative solver options:\n",
      "    https://scikit-learn.org/stable/modules/linear_model.html#logistic-regression\n",
      "  extra_warning_msg=_LOGISTIC_SOLVER_CONVERGENCE_MSG)\n",
      "C:\\Users\\Gustavo\\Anaconda3\\envs\\learn-env\\lib\\site-packages\\sklearn\\linear_model\\_logistic.py:764: ConvergenceWarning: lbfgs failed to converge (status=1):\n",
      "STOP: TOTAL NO. of ITERATIONS REACHED LIMIT.\n",
      "\n",
      "Increase the number of iterations (max_iter) or scale the data as shown in:\n",
      "    https://scikit-learn.org/stable/modules/preprocessing.html\n",
      "Please also refer to the documentation for alternative solver options:\n",
      "    https://scikit-learn.org/stable/modules/linear_model.html#logistic-regression\n",
      "  extra_warning_msg=_LOGISTIC_SOLVER_CONVERGENCE_MSG)\n",
      "C:\\Users\\Gustavo\\Anaconda3\\envs\\learn-env\\lib\\site-packages\\sklearn\\linear_model\\_logistic.py:764: ConvergenceWarning: lbfgs failed to converge (status=1):\n",
      "STOP: TOTAL NO. of ITERATIONS REACHED LIMIT.\n",
      "\n",
      "Increase the number of iterations (max_iter) or scale the data as shown in:\n",
      "    https://scikit-learn.org/stable/modules/preprocessing.html\n",
      "Please also refer to the documentation for alternative solver options:\n",
      "    https://scikit-learn.org/stable/modules/linear_model.html#logistic-regression\n",
      "  extra_warning_msg=_LOGISTIC_SOLVER_CONVERGENCE_MSG)\n",
      "C:\\Users\\Gustavo\\Anaconda3\\envs\\learn-env\\lib\\site-packages\\sklearn\\linear_model\\_logistic.py:764: ConvergenceWarning: lbfgs failed to converge (status=1):\n",
      "STOP: TOTAL NO. of ITERATIONS REACHED LIMIT.\n",
      "\n",
      "Increase the number of iterations (max_iter) or scale the data as shown in:\n",
      "    https://scikit-learn.org/stable/modules/preprocessing.html\n",
      "Please also refer to the documentation for alternative solver options:\n",
      "    https://scikit-learn.org/stable/modules/linear_model.html#logistic-regression\n",
      "  extra_warning_msg=_LOGISTIC_SOLVER_CONVERGENCE_MSG)\n"
     ]
    },
    {
     "name": "stdout",
     "output_type": "stream",
     "text": [
      "LogisticRegressionCV(cv=5)\n",
      "--Training Data--\n"
     ]
    },
    {
     "name": "stderr",
     "output_type": "stream",
     "text": [
      "C:\\Users\\Gustavo\\Anaconda3\\envs\\learn-env\\lib\\site-packages\\sklearn\\linear_model\\_logistic.py:764: ConvergenceWarning: lbfgs failed to converge (status=1):\n",
      "STOP: TOTAL NO. of ITERATIONS REACHED LIMIT.\n",
      "\n",
      "Increase the number of iterations (max_iter) or scale the data as shown in:\n",
      "    https://scikit-learn.org/stable/modules/preprocessing.html\n",
      "Please also refer to the documentation for alternative solver options:\n",
      "    https://scikit-learn.org/stable/modules/linear_model.html#logistic-regression\n",
      "  extra_warning_msg=_LOGISTIC_SOLVER_CONVERGENCE_MSG)\n"
     ]
    },
    {
     "data": {
      "text/plain": [
       "array([[4029,    0,    3],\n",
       "       [  12, 3985,   35],\n",
       "       [   5,   54, 3973]], dtype=int64)"
      ]
     },
     "metadata": {},
     "output_type": "display_data"
    },
    {
     "name": "stdout",
     "output_type": "stream",
     "text": [
      "\n",
      "              precision    recall  f1-score   support\n",
      "\n",
      "           0       1.00      1.00      1.00      4032\n",
      "           1       0.99      0.99      0.99      4032\n",
      "           2       0.99      0.99      0.99      4032\n",
      "\n",
      "    accuracy                           0.99     12096\n",
      "   macro avg       0.99      0.99      0.99     12096\n",
      "weighted avg       0.99      0.99      0.99     12096\n",
      "\n",
      "--Test--\n"
     ]
    },
    {
     "data": {
      "text/plain": [
       "array([[  81,   15,   63],\n",
       "       [  13, 1301,   42],\n",
       "       [  44,   75,  600]], dtype=int64)"
      ]
     },
     "metadata": {},
     "output_type": "display_data"
    },
    {
     "name": "stdout",
     "output_type": "stream",
     "text": [
      "\n",
      "              precision    recall  f1-score   support\n",
      "\n",
      "           0       0.59      0.51      0.55       159\n",
      "           1       0.94      0.96      0.95      1356\n",
      "           2       0.85      0.83      0.84       719\n",
      "\n",
      "    accuracy                           0.89      2234\n",
      "   macro avg       0.79      0.77      0.78      2234\n",
      "weighted avg       0.88      0.89      0.88      2234\n",
      "\n",
      "SVC()\n",
      "--Training Data--\n"
     ]
    },
    {
     "data": {
      "text/plain": [
       "array([[4026,    0,    6],\n",
       "       [  24, 3952,   56],\n",
       "       [   6,  168, 3858]], dtype=int64)"
      ]
     },
     "metadata": {},
     "output_type": "display_data"
    },
    {
     "name": "stdout",
     "output_type": "stream",
     "text": [
      "\n",
      "              precision    recall  f1-score   support\n",
      "\n",
      "           0       0.99      1.00      1.00      4032\n",
      "           1       0.96      0.98      0.97      4032\n",
      "           2       0.98      0.96      0.97      4032\n",
      "\n",
      "    accuracy                           0.98     12096\n",
      "   macro avg       0.98      0.98      0.98     12096\n",
      "weighted avg       0.98      0.98      0.98     12096\n",
      "\n",
      "--Test--\n"
     ]
    },
    {
     "data": {
      "text/plain": [
       "array([[  63,   12,   84],\n",
       "       [   7, 1275,   74],\n",
       "       [   9,   78,  632]], dtype=int64)"
      ]
     },
     "metadata": {},
     "output_type": "display_data"
    },
    {
     "name": "stdout",
     "output_type": "stream",
     "text": [
      "\n",
      "              precision    recall  f1-score   support\n",
      "\n",
      "           0       0.80      0.40      0.53       159\n",
      "           1       0.93      0.94      0.94      1356\n",
      "           2       0.80      0.88      0.84       719\n",
      "\n",
      "    accuracy                           0.88      2234\n",
      "   macro avg       0.84      0.74      0.77      2234\n",
      "weighted avg       0.88      0.88      0.88      2234\n",
      "\n"
     ]
    }
   ],
   "source": [
    "for classifier in classifiers:\n",
    "  get_report(classifier, smote_X, smote_y, X_test, y_test)"
   ]
  },
  {
   "cell_type": "markdown",
   "metadata": {
    "id": "RlZyfRTL80tb"
   },
   "source": [
    "Okay, there is a significant level of improvement in our macro f-1 scores for the test set for the classifiers that have been fit with the smoted data. I will now use GridSearchCV to optimize each on on macro f-1 scores"
   ]
  },
  {
   "cell_type": "markdown",
   "metadata": {
    "id": "_GQWUIR89Xxb"
   },
   "source": [
    "## Tuning Logistic Regression Model"
   ]
  },
  {
   "cell_type": "code",
   "execution_count": 16,
   "metadata": {
    "colab": {
     "base_uri": "https://localhost:8080/"
    },
    "id": "cX0qelrdko1A",
    "outputId": "f6d00556-dcc7-40a4-e1f8-20d94e00a9c3"
   },
   "outputs": [
    {
     "name": "stderr",
     "output_type": "stream",
     "text": [
      "C:\\Users\\Gustavo\\Anaconda3\\envs\\learn-env\\lib\\site-packages\\sklearn\\linear_model\\_logistic.py:764: ConvergenceWarning: lbfgs failed to converge (status=1):\n",
      "STOP: TOTAL NO. of ITERATIONS REACHED LIMIT.\n",
      "\n",
      "Increase the number of iterations (max_iter) or scale the data as shown in:\n",
      "    https://scikit-learn.org/stable/modules/preprocessing.html\n",
      "Please also refer to the documentation for alternative solver options:\n",
      "    https://scikit-learn.org/stable/modules/linear_model.html#logistic-regression\n",
      "  extra_warning_msg=_LOGISTIC_SOLVER_CONVERGENCE_MSG)\n",
      "C:\\Users\\Gustavo\\Anaconda3\\envs\\learn-env\\lib\\site-packages\\sklearn\\linear_model\\_logistic.py:764: ConvergenceWarning: lbfgs failed to converge (status=1):\n",
      "STOP: TOTAL NO. of ITERATIONS REACHED LIMIT.\n",
      "\n",
      "Increase the number of iterations (max_iter) or scale the data as shown in:\n",
      "    https://scikit-learn.org/stable/modules/preprocessing.html\n",
      "Please also refer to the documentation for alternative solver options:\n",
      "    https://scikit-learn.org/stable/modules/linear_model.html#logistic-regression\n",
      "  extra_warning_msg=_LOGISTIC_SOLVER_CONVERGENCE_MSG)\n",
      "C:\\Users\\Gustavo\\Anaconda3\\envs\\learn-env\\lib\\site-packages\\sklearn\\linear_model\\_logistic.py:764: ConvergenceWarning: lbfgs failed to converge (status=1):\n",
      "STOP: TOTAL NO. of ITERATIONS REACHED LIMIT.\n",
      "\n",
      "Increase the number of iterations (max_iter) or scale the data as shown in:\n",
      "    https://scikit-learn.org/stable/modules/preprocessing.html\n",
      "Please also refer to the documentation for alternative solver options:\n",
      "    https://scikit-learn.org/stable/modules/linear_model.html#logistic-regression\n",
      "  extra_warning_msg=_LOGISTIC_SOLVER_CONVERGENCE_MSG)\n",
      "C:\\Users\\Gustavo\\Anaconda3\\envs\\learn-env\\lib\\site-packages\\sklearn\\linear_model\\_logistic.py:764: ConvergenceWarning: lbfgs failed to converge (status=1):\n",
      "STOP: TOTAL NO. of ITERATIONS REACHED LIMIT.\n",
      "\n",
      "Increase the number of iterations (max_iter) or scale the data as shown in:\n",
      "    https://scikit-learn.org/stable/modules/preprocessing.html\n",
      "Please also refer to the documentation for alternative solver options:\n",
      "    https://scikit-learn.org/stable/modules/linear_model.html#logistic-regression\n",
      "  extra_warning_msg=_LOGISTIC_SOLVER_CONVERGENCE_MSG)\n",
      "C:\\Users\\Gustavo\\Anaconda3\\envs\\learn-env\\lib\\site-packages\\sklearn\\linear_model\\_logistic.py:764: ConvergenceWarning: lbfgs failed to converge (status=1):\n",
      "STOP: TOTAL NO. of ITERATIONS REACHED LIMIT.\n",
      "\n",
      "Increase the number of iterations (max_iter) or scale the data as shown in:\n",
      "    https://scikit-learn.org/stable/modules/preprocessing.html\n",
      "Please also refer to the documentation for alternative solver options:\n",
      "    https://scikit-learn.org/stable/modules/linear_model.html#logistic-regression\n",
      "  extra_warning_msg=_LOGISTIC_SOLVER_CONVERGENCE_MSG)\n",
      "C:\\Users\\Gustavo\\Anaconda3\\envs\\learn-env\\lib\\site-packages\\sklearn\\linear_model\\_logistic.py:764: ConvergenceWarning: lbfgs failed to converge (status=1):\n",
      "STOP: TOTAL NO. of ITERATIONS REACHED LIMIT.\n",
      "\n",
      "Increase the number of iterations (max_iter) or scale the data as shown in:\n",
      "    https://scikit-learn.org/stable/modules/preprocessing.html\n",
      "Please also refer to the documentation for alternative solver options:\n",
      "    https://scikit-learn.org/stable/modules/linear_model.html#logistic-regression\n",
      "  extra_warning_msg=_LOGISTIC_SOLVER_CONVERGENCE_MSG)\n",
      "C:\\Users\\Gustavo\\Anaconda3\\envs\\learn-env\\lib\\site-packages\\sklearn\\linear_model\\_logistic.py:764: ConvergenceWarning: lbfgs failed to converge (status=1):\n",
      "STOP: TOTAL NO. of ITERATIONS REACHED LIMIT.\n",
      "\n",
      "Increase the number of iterations (max_iter) or scale the data as shown in:\n",
      "    https://scikit-learn.org/stable/modules/preprocessing.html\n",
      "Please also refer to the documentation for alternative solver options:\n",
      "    https://scikit-learn.org/stable/modules/linear_model.html#logistic-regression\n",
      "  extra_warning_msg=_LOGISTIC_SOLVER_CONVERGENCE_MSG)\n",
      "C:\\Users\\Gustavo\\Anaconda3\\envs\\learn-env\\lib\\site-packages\\sklearn\\linear_model\\_logistic.py:764: ConvergenceWarning: lbfgs failed to converge (status=1):\n",
      "STOP: TOTAL NO. of ITERATIONS REACHED LIMIT.\n",
      "\n",
      "Increase the number of iterations (max_iter) or scale the data as shown in:\n",
      "    https://scikit-learn.org/stable/modules/preprocessing.html\n",
      "Please also refer to the documentation for alternative solver options:\n",
      "    https://scikit-learn.org/stable/modules/linear_model.html#logistic-regression\n",
      "  extra_warning_msg=_LOGISTIC_SOLVER_CONVERGENCE_MSG)\n",
      "C:\\Users\\Gustavo\\Anaconda3\\envs\\learn-env\\lib\\site-packages\\sklearn\\linear_model\\_logistic.py:764: ConvergenceWarning: lbfgs failed to converge (status=1):\n",
      "STOP: TOTAL NO. of ITERATIONS REACHED LIMIT.\n",
      "\n",
      "Increase the number of iterations (max_iter) or scale the data as shown in:\n",
      "    https://scikit-learn.org/stable/modules/preprocessing.html\n",
      "Please also refer to the documentation for alternative solver options:\n",
      "    https://scikit-learn.org/stable/modules/linear_model.html#logistic-regression\n",
      "  extra_warning_msg=_LOGISTIC_SOLVER_CONVERGENCE_MSG)\n",
      "C:\\Users\\Gustavo\\Anaconda3\\envs\\learn-env\\lib\\site-packages\\sklearn\\linear_model\\_logistic.py:764: ConvergenceWarning: lbfgs failed to converge (status=1):\n",
      "STOP: TOTAL NO. of ITERATIONS REACHED LIMIT.\n",
      "\n",
      "Increase the number of iterations (max_iter) or scale the data as shown in:\n",
      "    https://scikit-learn.org/stable/modules/preprocessing.html\n",
      "Please also refer to the documentation for alternative solver options:\n",
      "    https://scikit-learn.org/stable/modules/linear_model.html#logistic-regression\n",
      "  extra_warning_msg=_LOGISTIC_SOLVER_CONVERGENCE_MSG)\n",
      "C:\\Users\\Gustavo\\Anaconda3\\envs\\learn-env\\lib\\site-packages\\sklearn\\linear_model\\_logistic.py:764: ConvergenceWarning: lbfgs failed to converge (status=1):\n",
      "STOP: TOTAL NO. of ITERATIONS REACHED LIMIT.\n",
      "\n",
      "Increase the number of iterations (max_iter) or scale the data as shown in:\n",
      "    https://scikit-learn.org/stable/modules/preprocessing.html\n",
      "Please also refer to the documentation for alternative solver options:\n",
      "    https://scikit-learn.org/stable/modules/linear_model.html#logistic-regression\n",
      "  extra_warning_msg=_LOGISTIC_SOLVER_CONVERGENCE_MSG)\n",
      "C:\\Users\\Gustavo\\Anaconda3\\envs\\learn-env\\lib\\site-packages\\sklearn\\linear_model\\_logistic.py:764: ConvergenceWarning: lbfgs failed to converge (status=1):\n",
      "STOP: TOTAL NO. of ITERATIONS REACHED LIMIT.\n",
      "\n",
      "Increase the number of iterations (max_iter) or scale the data as shown in:\n",
      "    https://scikit-learn.org/stable/modules/preprocessing.html\n",
      "Please also refer to the documentation for alternative solver options:\n",
      "    https://scikit-learn.org/stable/modules/linear_model.html#logistic-regression\n",
      "  extra_warning_msg=_LOGISTIC_SOLVER_CONVERGENCE_MSG)\n",
      "C:\\Users\\Gustavo\\Anaconda3\\envs\\learn-env\\lib\\site-packages\\sklearn\\linear_model\\_logistic.py:764: ConvergenceWarning: lbfgs failed to converge (status=1):\n",
      "STOP: TOTAL NO. of ITERATIONS REACHED LIMIT.\n",
      "\n",
      "Increase the number of iterations (max_iter) or scale the data as shown in:\n",
      "    https://scikit-learn.org/stable/modules/preprocessing.html\n",
      "Please also refer to the documentation for alternative solver options:\n",
      "    https://scikit-learn.org/stable/modules/linear_model.html#logistic-regression\n",
      "  extra_warning_msg=_LOGISTIC_SOLVER_CONVERGENCE_MSG)\n",
      "C:\\Users\\Gustavo\\Anaconda3\\envs\\learn-env\\lib\\site-packages\\sklearn\\linear_model\\_logistic.py:764: ConvergenceWarning: lbfgs failed to converge (status=1):\n",
      "STOP: TOTAL NO. of ITERATIONS REACHED LIMIT.\n",
      "\n",
      "Increase the number of iterations (max_iter) or scale the data as shown in:\n",
      "    https://scikit-learn.org/stable/modules/preprocessing.html\n",
      "Please also refer to the documentation for alternative solver options:\n",
      "    https://scikit-learn.org/stable/modules/linear_model.html#logistic-regression\n",
      "  extra_warning_msg=_LOGISTIC_SOLVER_CONVERGENCE_MSG)\n",
      "C:\\Users\\Gustavo\\Anaconda3\\envs\\learn-env\\lib\\site-packages\\sklearn\\linear_model\\_logistic.py:764: ConvergenceWarning: lbfgs failed to converge (status=1):\n",
      "STOP: TOTAL NO. of ITERATIONS REACHED LIMIT.\n",
      "\n",
      "Increase the number of iterations (max_iter) or scale the data as shown in:\n",
      "    https://scikit-learn.org/stable/modules/preprocessing.html\n",
      "Please also refer to the documentation for alternative solver options:\n",
      "    https://scikit-learn.org/stable/modules/linear_model.html#logistic-regression\n",
      "  extra_warning_msg=_LOGISTIC_SOLVER_CONVERGENCE_MSG)\n"
     ]
    },
    {
     "name": "stderr",
     "output_type": "stream",
     "text": [
      "C:\\Users\\Gustavo\\Anaconda3\\envs\\learn-env\\lib\\site-packages\\sklearn\\linear_model\\_logistic.py:764: ConvergenceWarning: lbfgs failed to converge (status=1):\n",
      "STOP: TOTAL NO. of ITERATIONS REACHED LIMIT.\n",
      "\n",
      "Increase the number of iterations (max_iter) or scale the data as shown in:\n",
      "    https://scikit-learn.org/stable/modules/preprocessing.html\n",
      "Please also refer to the documentation for alternative solver options:\n",
      "    https://scikit-learn.org/stable/modules/linear_model.html#logistic-regression\n",
      "  extra_warning_msg=_LOGISTIC_SOLVER_CONVERGENCE_MSG)\n"
     ]
    },
    {
     "data": {
      "text/plain": [
       "GridSearchCV(cv=3, estimator=LogisticRegressionCV(cv=3),\n",
       "             param_grid={'Cs': [20]}, scoring='f1_macro')"
      ]
     },
     "execution_count": 16,
     "metadata": {},
     "output_type": "execute_result"
    }
   ],
   "source": [
    "logreg_clf = LogisticRegressionCV(cv=3)\n",
    "param_grid = {'Cs':[15, 18, 20, 22]}\n",
    "\n",
    "gridsearch_logreg = GridSearchCV(logreg_clf, param_grid=param_grid, scoring= 'f1_macro',cv=3)\n",
    "gridsearch_logreg.fit(smote_X, smote_y)"
   ]
  },
  {
   "cell_type": "code",
   "execution_count": 17,
   "metadata": {
    "colab": {
     "base_uri": "https://localhost:8080/"
    },
    "id": "Ipgyc60q9UbC",
    "outputId": "820ec6d8-0277-401d-e1f4-5f6366cb9264"
   },
   "outputs": [
    {
     "data": {
      "text/plain": [
       "{'Cs': 20}"
      ]
     },
     "execution_count": 17,
     "metadata": {},
     "output_type": "execute_result"
    }
   ],
   "source": [
    "gridsearch_logreg.best_params_"
   ]
  },
  {
   "cell_type": "code",
   "execution_count": 18,
   "metadata": {
    "id": "0papjNRiXVpu"
   },
   "outputs": [],
   "source": [
    "logreg_clf = LogisticRegressionCV(Cs=20 ,cv=3)"
   ]
  },
  {
   "cell_type": "code",
   "execution_count": 19,
   "metadata": {
    "colab": {
     "base_uri": "https://localhost:8080/",
     "height": 1000
    },
    "id": "G5pvhaw-FAgJ",
    "outputId": "217c515f-4b38-4892-eaa8-64c4b91bf430"
   },
   "outputs": [
    {
     "name": "stderr",
     "output_type": "stream",
     "text": [
      "C:\\Users\\Gustavo\\Anaconda3\\envs\\learn-env\\lib\\site-packages\\sklearn\\linear_model\\_logistic.py:764: ConvergenceWarning: lbfgs failed to converge (status=1):\n",
      "STOP: TOTAL NO. of ITERATIONS REACHED LIMIT.\n",
      "\n",
      "Increase the number of iterations (max_iter) or scale the data as shown in:\n",
      "    https://scikit-learn.org/stable/modules/preprocessing.html\n",
      "Please also refer to the documentation for alternative solver options:\n",
      "    https://scikit-learn.org/stable/modules/linear_model.html#logistic-regression\n",
      "  extra_warning_msg=_LOGISTIC_SOLVER_CONVERGENCE_MSG)\n",
      "C:\\Users\\Gustavo\\Anaconda3\\envs\\learn-env\\lib\\site-packages\\sklearn\\linear_model\\_logistic.py:764: ConvergenceWarning: lbfgs failed to converge (status=1):\n",
      "STOP: TOTAL NO. of ITERATIONS REACHED LIMIT.\n",
      "\n",
      "Increase the number of iterations (max_iter) or scale the data as shown in:\n",
      "    https://scikit-learn.org/stable/modules/preprocessing.html\n",
      "Please also refer to the documentation for alternative solver options:\n",
      "    https://scikit-learn.org/stable/modules/linear_model.html#logistic-regression\n",
      "  extra_warning_msg=_LOGISTIC_SOLVER_CONVERGENCE_MSG)\n",
      "C:\\Users\\Gustavo\\Anaconda3\\envs\\learn-env\\lib\\site-packages\\sklearn\\linear_model\\_logistic.py:764: ConvergenceWarning: lbfgs failed to converge (status=1):\n",
      "STOP: TOTAL NO. of ITERATIONS REACHED LIMIT.\n",
      "\n",
      "Increase the number of iterations (max_iter) or scale the data as shown in:\n",
      "    https://scikit-learn.org/stable/modules/preprocessing.html\n",
      "Please also refer to the documentation for alternative solver options:\n",
      "    https://scikit-learn.org/stable/modules/linear_model.html#logistic-regression\n",
      "  extra_warning_msg=_LOGISTIC_SOLVER_CONVERGENCE_MSG)\n"
     ]
    },
    {
     "name": "stdout",
     "output_type": "stream",
     "text": [
      "LogisticRegressionCV(Cs=20, cv=3)\n",
      "--Training Data--\n"
     ]
    },
    {
     "name": "stderr",
     "output_type": "stream",
     "text": [
      "C:\\Users\\Gustavo\\Anaconda3\\envs\\learn-env\\lib\\site-packages\\sklearn\\linear_model\\_logistic.py:764: ConvergenceWarning: lbfgs failed to converge (status=1):\n",
      "STOP: TOTAL NO. of ITERATIONS REACHED LIMIT.\n",
      "\n",
      "Increase the number of iterations (max_iter) or scale the data as shown in:\n",
      "    https://scikit-learn.org/stable/modules/preprocessing.html\n",
      "Please also refer to the documentation for alternative solver options:\n",
      "    https://scikit-learn.org/stable/modules/linear_model.html#logistic-regression\n",
      "  extra_warning_msg=_LOGISTIC_SOLVER_CONVERGENCE_MSG)\n"
     ]
    },
    {
     "data": {
      "text/plain": [
       "array([[4028,    0,    4],\n",
       "       [  12, 3985,   35],\n",
       "       [   5,   47, 3980]], dtype=int64)"
      ]
     },
     "metadata": {},
     "output_type": "display_data"
    },
    {
     "name": "stdout",
     "output_type": "stream",
     "text": [
      "\n",
      "              precision    recall  f1-score   support\n",
      "\n",
      "           0       1.00      1.00      1.00      4032\n",
      "           1       0.99      0.99      0.99      4032\n",
      "           2       0.99      0.99      0.99      4032\n",
      "\n",
      "    accuracy                           0.99     12096\n",
      "   macro avg       0.99      0.99      0.99     12096\n",
      "weighted avg       0.99      0.99      0.99     12096\n",
      "\n",
      "--Test--\n"
     ]
    },
    {
     "data": {
      "text/plain": [
       "array([[  80,   15,   64],\n",
       "       [  14, 1300,   42],\n",
       "       [  44,   76,  599]], dtype=int64)"
      ]
     },
     "metadata": {},
     "output_type": "display_data"
    },
    {
     "name": "stdout",
     "output_type": "stream",
     "text": [
      "\n",
      "              precision    recall  f1-score   support\n",
      "\n",
      "           0       0.58      0.50      0.54       159\n",
      "           1       0.93      0.96      0.95      1356\n",
      "           2       0.85      0.83      0.84       719\n",
      "\n",
      "    accuracy                           0.89      2234\n",
      "   macro avg       0.79      0.76      0.78      2234\n",
      "weighted avg       0.88      0.89      0.88      2234\n",
      "\n"
     ]
    }
   ],
   "source": [
    "get_report(logreg_clf, smote_X, smote_y, X_test, y_test)"
   ]
  },
  {
   "cell_type": "markdown",
   "metadata": {
    "id": "iGLD5tM50Zvr"
   },
   "source": [
    "There was an increase from 0.75 -> 0.77 from our first initial assessment using Logistic Regression to after we have tuned it using GridSearchCV. The Logistic Regression Model performed pretty well since the first iteration. I will now look at the other models who had different levels of performance"
   ]
  },
  {
   "cell_type": "markdown",
   "metadata": {
    "id": "Zo65M6PA2Zg9"
   },
   "source": [
    "## Tuning SVM Model"
   ]
  },
  {
   "cell_type": "code",
   "execution_count": 22,
   "metadata": {
    "colab": {
     "base_uri": "https://localhost:8080/"
    },
    "id": "LEKiNgnBFZrY",
    "outputId": "181ecfe1-844f-4702-f223-65f0ae9d5213"
   },
   "outputs": [
    {
     "data": {
      "text/plain": [
       "GridSearchCV(cv=3, estimator=SVC(), param_grid={'C': [0.5], 'kernel': ['rbf']},\n",
       "             scoring='f1_macro')"
      ]
     },
     "execution_count": 22,
     "metadata": {},
     "output_type": "execute_result"
    }
   ],
   "source": [
    "svm_clf = SVC()\n",
    "param_grid = {'C':[0.5, 1, 5, 10], 'kernel': ['rbf']}\n",
    "gridsearch_svm = GridSearchCV(svm_clf,param_grid=param_grid, scoring='f1_macro', cv=3)\n",
    "gridsearch_svm.fit(smote_X, smote_y)"
   ]
  },
  {
   "cell_type": "code",
   "execution_count": 23,
   "metadata": {
    "colab": {
     "base_uri": "https://localhost:8080/"
    },
    "id": "acn5Xc_45AGI",
    "outputId": "cef9994d-61d7-475f-c219-4cbfd7e89f53"
   },
   "outputs": [
    {
     "data": {
      "text/plain": [
       "{'C': 0.5, 'kernel': 'rbf'}"
      ]
     },
     "execution_count": 23,
     "metadata": {},
     "output_type": "execute_result"
    }
   ],
   "source": [
    "gridsearch_svm.best_params_"
   ]
  },
  {
   "cell_type": "code",
   "execution_count": null,
   "metadata": {
    "colab": {
     "base_uri": "https://localhost:8080/",
     "height": 595
    },
    "id": "oxJaYLdUNLnI",
    "outputId": "4043ae30-16a8-4640-ce55-9b94c5f52491"
   },
   "outputs": [
    {
     "name": "stdout",
     "output_type": "stream",
     "text": [
      "SVC(C=0.5, break_ties=False, cache_size=200, class_weight=None, coef0=0.0,\n",
      "    decision_function_shape='ovr', degree=3, gamma='scale', kernel='rbf',\n",
      "    max_iter=-1, probability=False, random_state=None, shrinking=True,\n",
      "    tol=0.001, verbose=False)\n",
      "--Training Data--\n"
     ]
    },
    {
     "data": {
      "text/plain": [
       "array([[4016,    6,   10],\n",
       "       [  23, 3952,   57],\n",
       "       [   7,  330, 3695]])"
      ]
     },
     "metadata": {
      "tags": []
     },
     "output_type": "display_data"
    },
    {
     "name": "stdout",
     "output_type": "stream",
     "text": [
      "\n",
      "              precision    recall  f1-score   support\n",
      "\n",
      "           0       0.99      1.00      0.99      4032\n",
      "           1       0.92      0.98      0.95      4032\n",
      "           2       0.98      0.92      0.95      4032\n",
      "\n",
      "    accuracy                           0.96     12096\n",
      "   macro avg       0.97      0.96      0.96     12096\n",
      "weighted avg       0.97      0.96      0.96     12096\n",
      "\n",
      "--Test--\n"
     ]
    },
    {
     "data": {
      "text/plain": [
       "array([[  65,   13,   81],\n",
       "       [   7, 1328,   21],\n",
       "       [  15,   80,  624]])"
      ]
     },
     "metadata": {
      "tags": []
     },
     "output_type": "display_data"
    },
    {
     "name": "stdout",
     "output_type": "stream",
     "text": [
      "\n",
      "              precision    recall  f1-score   support\n",
      "\n",
      "           0       0.75      0.41      0.53       159\n",
      "           1       0.93      0.98      0.96      1356\n",
      "           2       0.86      0.87      0.86       719\n",
      "\n",
      "    accuracy                           0.90      2234\n",
      "   macro avg       0.85      0.75      0.78      2234\n",
      "weighted avg       0.90      0.90      0.90      2234\n",
      "\n"
     ]
    }
   ],
   "source": [
    "svm_clf = SVC(C= .5, kernel= 'rbf')\n",
    "get_report(svm_clf, smote_X, smote_y, X_test, y_test)\n"
   ]
  },
  {
   "cell_type": "markdown",
   "metadata": {
    "id": "ZhG37i4jn9EV"
   },
   "source": [
    "With C=10 what we had happen is the model then overfit on the training data. Since we had a decrease in test macro f1, I can it again with a lower C. Even with a C of 5, it was not better than baseline. With a C of 0.5 however, we get a smaller difference in accuracy scores between training and test, as well as a higher macro_f1, so I'll take it."
   ]
  },
  {
   "cell_type": "markdown",
   "metadata": {
    "id": "8a1-1MF9n-Xt"
   },
   "source": [
    "## Tuning Random Forest Model"
   ]
  },
  {
   "cell_type": "markdown",
   "metadata": {
    "id": "bP26pQguoDHX"
   },
   "source": [
    "Random Forest and XGBoosting will require a different approach to tuning than the previous two models. This is because the Random Forest model is the most overfit to the training data than any other model, showing a near 100% accuracy on the training data, yet significantly lower accuracy on the test data while having a poor macro f-1 score. before SMOTE, macro f-1 score was 0.59. After SMOTE-ing the data there was an increase in macro f-1 to 0.63 which is better, but that was on the test data. GridSearch will not work here because even if I score on f-1, the overfit model has perfect scores in all categories to begin with, thus any model that sacrifices accuracy and f-1 score on the training data for better results on the test data will not be shown as the best params for the Random Forest model."
   ]
  },
  {
   "cell_type": "code",
   "execution_count": 24,
   "metadata": {
    "colab": {
     "base_uri": "https://localhost:8080/",
     "height": 663
    },
    "id": "Wz4PGibMnoLI",
    "outputId": "d38c465b-bd23-46a0-c9e1-079c150a2607"
   },
   "outputs": [
    {
     "name": "stdout",
     "output_type": "stream",
     "text": [
      "RandomForestClassifier(max_depth=8, min_samples_split=5, n_estimators=150)\n",
      "--Training Data--\n"
     ]
    },
    {
     "data": {
      "text/plain": [
       "array([[3993,   25,   14],\n",
       "       [  27, 3983,   22],\n",
       "       [  23,  160, 3849]], dtype=int64)"
      ]
     },
     "metadata": {},
     "output_type": "display_data"
    },
    {
     "name": "stdout",
     "output_type": "stream",
     "text": [
      "\n",
      "              precision    recall  f1-score   support\n",
      "\n",
      "           0       0.99      0.99      0.99      4032\n",
      "           1       0.96      0.99      0.97      4032\n",
      "           2       0.99      0.95      0.97      4032\n",
      "\n",
      "    accuracy                           0.98     12096\n",
      "   macro avg       0.98      0.98      0.98     12096\n",
      "weighted avg       0.98      0.98      0.98     12096\n",
      "\n",
      "--Test--\n"
     ]
    },
    {
     "data": {
      "text/plain": [
       "array([[  73,   18,   68],\n",
       "       [  17, 1290,   49],\n",
       "       [  64,  118,  537]], dtype=int64)"
      ]
     },
     "metadata": {},
     "output_type": "display_data"
    },
    {
     "name": "stdout",
     "output_type": "stream",
     "text": [
      "\n",
      "              precision    recall  f1-score   support\n",
      "\n",
      "           0       0.47      0.46      0.47       159\n",
      "           1       0.90      0.95      0.93      1356\n",
      "           2       0.82      0.75      0.78       719\n",
      "\n",
      "    accuracy                           0.85      2234\n",
      "   macro avg       0.73      0.72      0.73      2234\n",
      "weighted avg       0.85      0.85      0.85      2234\n",
      "\n"
     ]
    }
   ],
   "source": [
    "rf_clf = RandomForestClassifier(max_depth=8, n_estimators=150, min_samples_split=5)\n",
    "get_report(rf_clf, smote_X, smote_y, X_test, y_test)"
   ]
  },
  {
   "cell_type": "markdown",
   "metadata": {
    "id": "qsdzmGLsK80W"
   },
   "source": [
    "After tuning max depth, n-estimators, and min samples split manually, this is the improvement in model that I've gotten. From baseline Random Forest f-1 score of 0.63 and accuracy of 0.80, we are now at an f-1 score of 0.73 and accuracy of 0.85. pretty good improvement!"
   ]
  },
  {
   "cell_type": "markdown",
   "metadata": {
    "id": "CbX_ezhoL6pu"
   },
   "source": [
    "## Tuning XGBooster"
   ]
  },
  {
   "cell_type": "markdown",
   "metadata": {
    "id": "uWs5VV3lMRxY"
   },
   "source": [
    "Due to overfit nature of XGBooster, we will be taking the same approach as we did with random forests to find optimal parameters"
   ]
  },
  {
   "cell_type": "code",
   "execution_count": 25,
   "metadata": {
    "colab": {
     "base_uri": "https://localhost:8080/",
     "height": 646
    },
    "id": "weBNxBgK49v5",
    "outputId": "8988435d-90ca-4b04-dd98-bc956c2cb3ca"
   },
   "outputs": [
    {
     "name": "stdout",
     "output_type": "stream",
     "text": [
      "XGBClassifier(gamma=0.1, learning_rate=0.2, max_depth=4,\n",
      "              objective='multi:softprob')\n",
      "--Training Data--\n"
     ]
    },
    {
     "data": {
      "text/plain": [
       "array([[4031,    0,    1],\n",
       "       [   2, 4027,    3],\n",
       "       [   4,   23, 4005]], dtype=int64)"
      ]
     },
     "metadata": {},
     "output_type": "display_data"
    },
    {
     "name": "stdout",
     "output_type": "stream",
     "text": [
      "\n",
      "              precision    recall  f1-score   support\n",
      "\n",
      "           0       1.00      1.00      1.00      4032\n",
      "           1       0.99      1.00      1.00      4032\n",
      "           2       1.00      0.99      1.00      4032\n",
      "\n",
      "    accuracy                           1.00     12096\n",
      "   macro avg       1.00      1.00      1.00     12096\n",
      "weighted avg       1.00      1.00      1.00     12096\n",
      "\n",
      "--Test--\n"
     ]
    },
    {
     "data": {
      "text/plain": [
       "array([[  64,   15,   80],\n",
       "       [   6, 1318,   32],\n",
       "       [  29,   80,  610]], dtype=int64)"
      ]
     },
     "metadata": {},
     "output_type": "display_data"
    },
    {
     "name": "stdout",
     "output_type": "stream",
     "text": [
      "\n",
      "              precision    recall  f1-score   support\n",
      "\n",
      "           0       0.65      0.40      0.50       159\n",
      "           1       0.93      0.97      0.95      1356\n",
      "           2       0.84      0.85      0.85       719\n",
      "\n",
      "    accuracy                           0.89      2234\n",
      "   macro avg       0.81      0.74      0.76      2234\n",
      "weighted avg       0.88      0.89      0.89      2234\n",
      "\n"
     ]
    }
   ],
   "source": [
    "xgb_clf = XGBClassifier(max_depth=4, learning_rate= 0.2, n_estimators=100, gamma= 0.1)\n",
    "get_report(xgb_clf, smote_X, smote_y, X_test, y_test)"
   ]
  },
  {
   "cell_type": "markdown",
   "metadata": {
    "id": "cyzeMH1YpMWm"
   },
   "source": [
    "XGBClassifier experienced the largest change in recall of the minority class between pre- and post- SMOTE, with a change of 0.08 recall to 0.47. For the f1 score that we are using as our guide, it increased from 0.63 to 0.75. My final scores for the XGBClassifier was an f1 score of 0.75 and an accuracy of 89%, which means I did improve accuracy from the base classifier."
   ]
  },
  {
   "cell_type": "markdown",
   "metadata": {
    "id": "PCugClOkRJ20"
   },
   "source": [
    "# Conclusion"
   ]
  },
  {
   "cell_type": "markdown",
   "metadata": {
    "id": "yULlDdZ0RKEq"
   },
   "source": [
    "|Classifier| Initial Macro F1 Score | Final Macro F1 Score|Initial Accuracy |Final Accuracy|\n",
    "|:---:| :---:| :---:| :---: |:---:|\n",
    "|RandomForestClassifier| 0.59| 0.73|0.78| 0.85|\n",
    "|XGBClassifier| 0.63| 0.75|0.88| 0.89|\n",
    "|LogisticRegressionCV| 0.75 |0.77 |0.90| 0.89|\n",
    "|SVC| 0.66|0.78|0.89|0.90|\n",
    "\n"
   ]
  },
  {
   "cell_type": "markdown",
   "metadata": {
    "id": "8DnKBOkBUNR5"
   },
   "source": [
    "For all models, we had an improvement in the macro f1 score, which is good! It means my classifiers were able to better classify the minority classes. Random Forest was the model that most benefitted from tuning and SMOTE. The Support Vector Machines model had the best scores in terms of macro f1 scores and accuracy and thus my best functioning model although all models are fairly strong here."
   ]
  }
 ],
 "metadata": {
  "colab": {
   "name": "Modeling.ipynb",
   "provenance": []
  },
  "kernelspec": {
   "display_name": "Python 3",
   "language": "python",
   "name": "python3"
  },
  "language_info": {
   "codemirror_mode": {
    "name": "ipython",
    "version": 3
   },
   "file_extension": ".py",
   "mimetype": "text/x-python",
   "name": "python",
   "nbconvert_exporter": "python",
   "pygments_lexer": "ipython3",
   "version": "3.6.9"
  }
 },
 "nbformat": 4,
 "nbformat_minor": 1
}
